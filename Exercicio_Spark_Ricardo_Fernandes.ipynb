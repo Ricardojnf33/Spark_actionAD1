{
  "nbformat": 4,
  "nbformat_minor": 0,
  "metadata": {
    "colab": {
      "name": "Exercicio_Spark_Ricardo_Fernandes.ipynb",
      "provenance": [],
      "collapsed_sections": [],
      "toc_visible": true,
      "include_colab_link": true
    },
    "kernelspec": {
      "name": "python3",
      "display_name": "Python 3"
    },
    "language_info": {
      "name": "python"
    }
  },
  "cells": [
    {
      "cell_type": "markdown",
      "metadata": {
        "id": "view-in-github",
        "colab_type": "text"
      },
      "source": [
        "<a href=\"https://colab.research.google.com/github/Ricardojnf33/Spark_actionAD1/blob/main/Exercicio_Spark_Ricardo_Fernandes.ipynb\" target=\"_parent\"><img src=\"https://colab.research.google.com/assets/colab-badge.svg\" alt=\"Open In Colab\"/></a>"
      ]
    },
    {
      "cell_type": "markdown",
      "source": [
        "# Instalando as dependências"
      ],
      "metadata": {
        "id": "hUoQH26KkGnv"
      }
    },
    {
      "cell_type": "code",
      "source": [
        "# instalar as dependências\n",
        "!apt-get install openjdk-8-jdk-headless -qq > /dev/null\n",
        "!wget -q https://archive.apache.org/dist/spark/spark-2.4.4/spark-2.4.4-bin-hadoop2.7.tgz\n",
        "!tar xf spark-2.4.4-bin-hadoop2.7.tgz\n",
        "!pip install -q findspark"
      ],
      "metadata": {
        "id": "RWDuifjG-UmV"
      },
      "execution_count": 1,
      "outputs": []
    },
    {
      "cell_type": "markdown",
      "source": [
        "# Importando Bibliotecas\n"
      ],
      "metadata": {
        "id": "F0UiAeBCj49L"
      }
    },
    {
      "cell_type": "code",
      "source": [
        "import os\n",
        "import findspark\n",
        "\n",
        "from pyspark.sql import SparkSession\n",
        "from pyspark import SparkContext\n",
        "from pyspark.sql.functions import col, asc, desc, dayofweek, month, lag, lead, when, unix_timestamp\n",
        "from pyspark.sql.window import Window"
      ],
      "metadata": {
        "id": "CdQE3KRHSYNw"
      },
      "execution_count": 3,
      "outputs": []
    },
    {
      "cell_type": "markdown",
      "source": [
        "# Criando variáveis de ambiente"
      ],
      "metadata": {
        "id": "QxVszu0AkM3C"
      }
    },
    {
      "cell_type": "code",
      "source": [
        "# configurar as variáveis de ambiente\n",
        "os.environ[\"JAVA_HOME\"] = \"/usr/lib/jvm/java-8-openjdk-amd64\"\n",
        "os.environ[\"SPARK_HOME\"] = \"/content/spark-2.4.4-bin-hadoop2.7\"\n",
        "\n",
        "# tornar o pyspark \"importável\"\n",
        "findspark.init('spark-2.4.4-bin-hadoop2.7')"
      ],
      "metadata": {
        "id": "EjdTalB8-UgG"
      },
      "execution_count": 2,
      "outputs": []
    },
    {
      "cell_type": "markdown",
      "source": [
        "# Iniciando Sessão Spark"
      ],
      "metadata": {
        "id": "csbUtfUZklo_"
      }
    },
    {
      "cell_type": "code",
      "source": [
        "spark = SparkSession.builder.getOrCreate()"
      ],
      "metadata": {
        "id": "4pMeUns8-UdP"
      },
      "execution_count": 4,
      "outputs": []
    },
    {
      "cell_type": "markdown",
      "source": [
        "# Feature Engineering"
      ],
      "metadata": {
        "id": "sG-esI1Ekt7E"
      }
    },
    {
      "cell_type": "code",
      "source": [
        "from pyspark.sql.types import StructType, IntegerType, TimestampType, StringType, StructField\n",
        "\n",
        "schema = StructType([\n",
        "    StructField(\"timestamp\", TimestampType()),\n",
        "    StructField(\"user_id\", StringType()),\n",
        "    StructField(\"action\", StringType()),\n",
        "    StructField(\"adId\", StringType()),\n",
        "    StructField(\"campaignId\", StringType())\n",
        "])"
      ],
      "metadata": {
        "id": "8LAQLakq-UaA"
      },
      "execution_count": 5,
      "outputs": []
    },
    {
      "cell_type": "markdown",
      "source": [
        "# Carregando CSV_file"
      ],
      "metadata": {
        "id": "SW55L9Ynjy86"
      }
    },
    {
      "cell_type": "code",
      "source": [
        "!git clone https://github.com/Ricardojnf33/Spark_actionAD1.git"
      ],
      "metadata": {
        "colab": {
          "base_uri": "https://localhost:8080/"
        },
        "id": "VC5N-6ehCpQ8",
        "outputId": "704903e4-c048-4638-8117-dbb7650c97d8"
      },
      "execution_count": 6,
      "outputs": [
        {
          "output_type": "stream",
          "name": "stdout",
          "text": [
            "fatal: destination path 'Spark_actionAD1' already exists and is not an empty directory.\n"
          ]
        }
      ]
    },
    {
      "cell_type": "code",
      "source": [
        "df_ad = spark.read.csv('/content/Spark_actionAD1/ad_action.csv', header=False, schema=schema)\n",
        "df_ad.show(5)"
      ],
      "metadata": {
        "colab": {
          "base_uri": "https://localhost:8080/"
        },
        "id": "SEBkJg0D-UWf",
        "outputId": "92778f29-20a2-44cc-c6f1-9ee7f36350dc"
      },
      "execution_count": 7,
      "outputs": [
        {
          "output_type": "stream",
          "name": "stdout",
          "text": [
            "+-------------------+--------------------+------+-------+-------------+\n",
            "|          timestamp|             user_id|action|   adId|   campaignId|\n",
            "+-------------------+--------------------+------+-------+-------------+\n",
            "|2016-09-21 22:11:00|7c74953c-66cc-48b...| click|adId_09|campaignId_01|\n",
            "|2016-06-25 18:29:00|676a083e-2f8e-4ff...|  view|adId_09|campaignId_02|\n",
            "|2016-02-14 19:03:00|77158997-0dfa-48b...| click|adId_02|campaignId_02|\n",
            "|2016-03-26 06:27:00|78aa2467-b502-413...| click|adId_07|campaignId_03|\n",
            "|2016-01-02 04:57:00|fef9a98c-d73e-48e...|  view|adId_02|campaignId_02|\n",
            "+-------------------+--------------------+------+-------+-------------+\n",
            "only showing top 5 rows\n",
            "\n"
          ]
        }
      ]
    },
    {
      "cell_type": "markdown",
      "source": [
        "# Perguntas"
      ],
      "metadata": {
        "id": "TxwcXfLalwo3"
      }
    },
    {
      "cell_type": "markdown",
      "source": [
        "## 1) Quais são as top 3 campanhas que geraram mais eventos? Ordene pela quantidade de eventos (2,5 pontos)"
      ],
      "metadata": {
        "id": "JTmJX5ykTQ3l"
      }
    },
    {
      "cell_type": "code",
      "source": [
        "df_ad.groupby('campaignId').count().orderBy(col('count').desc()).show(3)"
      ],
      "metadata": {
        "colab": {
          "base_uri": "https://localhost:8080/"
        },
        "id": "KQM_hFGRV17j",
        "outputId": "6c5bbe47-49de-4220-ff0c-1e19cccb6325"
      },
      "execution_count": 8,
      "outputs": [
        {
          "output_type": "stream",
          "name": "stdout",
          "text": [
            "+-------------+-----+\n",
            "|   campaignId|count|\n",
            "+-------------+-----+\n",
            "|campaignId_02|91216|\n",
            "|campaignId_03|87036|\n",
            "|campaignId_01|76461|\n",
            "+-------------+-----+\n",
            "\n"
          ]
        }
      ]
    },
    {
      "cell_type": "markdown",
      "source": [
        "## Resposta :\n",
        "\n",
        "\n",
        "*   campaignId_02|91216\n",
        "*   campaignId_03|87036\n",
        "*   campaignId_01|76461\n"
      ],
      "metadata": {
        "id": "GCplQ-a9l375"
      }
    },
    {
      "cell_type": "markdown",
      "source": [
        "## 2) Qual campanha teve mais clicks? (2,5 pontos)"
      ],
      "metadata": {
        "id": "-gXi-yV-Tp4o"
      }
    },
    {
      "cell_type": "code",
      "source": [
        "df_ad.where(df_ad.action=='click').groupby('campaignId').count().orderBy(col('count').desc()).show(1)"
      ],
      "metadata": {
        "colab": {
          "base_uri": "https://localhost:8080/"
        },
        "id": "z5PnOA58XCYn",
        "outputId": "d29376aa-dc92-4927-ea8e-dc55a5659630"
      },
      "execution_count": 9,
      "outputs": [
        {
          "output_type": "stream",
          "name": "stdout",
          "text": [
            "+-------------+-----+\n",
            "|   campaignId|count|\n",
            "+-------------+-----+\n",
            "|campaignId_02|63983|\n",
            "+-------------+-----+\n",
            "only showing top 1 row\n",
            "\n"
          ]
        }
      ]
    },
    {
      "cell_type": "markdown",
      "source": [
        "## Resposta :\n",
        "\n",
        "\n",
        "*   campaignId_02|63983"
      ],
      "metadata": {
        "id": "sH5XDjwgmVV8"
      }
    },
    {
      "cell_type": "markdown",
      "source": [
        "## 3) Dos 12 meses do ano, qual teve o maior total de eventos acumulado ao longo dos anos? (2,5 pontos)"
      ],
      "metadata": {
        "id": "GkFaxjG_T410"
      }
    },
    {
      "cell_type": "code",
      "source": [
        "df_ad.select('timestamp','action',).withColumn('timestamp',month(df_ad.timestamp)).groupBy('timestamp').count().show(1)"
      ],
      "metadata": {
        "colab": {
          "base_uri": "https://localhost:8080/"
        },
        "id": "hAQp5JVERCTV",
        "outputId": "08af9e60-d1c4-43d9-8dca-f02e6bbc7c7c"
      },
      "execution_count": 10,
      "outputs": [
        {
          "output_type": "stream",
          "name": "stdout",
          "text": [
            "+---------+-----+\n",
            "|timestamp|count|\n",
            "+---------+-----+\n",
            "|       12|20297|\n",
            "+---------+-----+\n",
            "only showing top 1 row\n",
            "\n"
          ]
        }
      ]
    },
    {
      "cell_type": "markdown",
      "source": [
        "## Resposta :\n",
        "\n",
        "\n",
        "*   Dezembro (12)|20297"
      ],
      "metadata": {
        "id": "iEd1e9YBmeJq"
      }
    },
    {
      "cell_type": "markdown",
      "source": [
        "## 4) Nas situações onde existe um evento de view seguido de um evento de click criados pelo mesmo usuário no mesmo anúncio e campanha, quais são os 5 pares de anúncio e campanha com menores médias de tempo entre os dois eventos (2,5 pontos)"
      ],
      "metadata": {
        "id": "A7ZMNfuHUH2y"
      }
    },
    {
      "cell_type": "code",
      "source": [
        "df_ad_lead_time_copy = df_ad.alias('df_ad_lead_time_copy')\n",
        "\n",
        "df_ad_lead_time_copy = df_ad_lead_time_copy.withColumn('lead', lead(col('action'),1 )\\\n",
        "                         .over(Window.partitionBy(col('user_id'), \n",
        "                                                  col('campaignId'),\n",
        "                                                  col('adId'),).orderBy(col('timestamp').asc(), col('action').desc())))\n",
        "\n",
        "df_ad_lead_time_copy = df_ad_lead_time_copy.withColumn('lead_time', lead(col('timestamp'),1 )\\\n",
        "                         .over(Window.partitionBy(col('user_id'), \n",
        "                                                  col('campaignId'),\n",
        "                                                  col('adId'),).orderBy(col('timestamp').asc(), col('action').desc())))\n",
        "\n",
        "df_ad_lead_time_copy.where((col('action')=='view') & (col('action')!=col('lead')) )\\\n",
        ".select( col('user_id'), col('campaignId'),\n",
        "        col('adId'),(unix_timestamp(col('lead_time')) - unix_timestamp(col('timestamp'))).alias('lead_sec'))\\\n",
        "        .orderBy(col('lead_sec').asc())\\\n",
        "        .groupBy(col('user_id'), col('campaignId'), col('adId'))\\\n",
        "        .avg().orderBy(col('avg(lead_sec)')).show(5)"
      ],
      "metadata": {
        "colab": {
          "base_uri": "https://localhost:8080/"
        },
        "id": "J9bWkTBqcWE9",
        "outputId": "cd540319-0958-4ebe-f012-d524eb71bc26"
      },
      "execution_count": 11,
      "outputs": [
        {
          "output_type": "stream",
          "name": "stdout",
          "text": [
            "+--------------------+-------------+-------+-------------+\n",
            "|             user_id|   campaignId|   adId|avg(lead_sec)|\n",
            "+--------------------+-------------+-------+-------------+\n",
            "|848eb13c-6881-45a...|campaignId_02|adId_05|        480.0|\n",
            "|f4db1c5e-7780-4be...|campaignId_02|adId_05|        660.0|\n",
            "|e929e33e-791a-4b7...|campaignId_03|adId_10|        900.0|\n",
            "|28c5def5-3ede-4ea...|campaignId_01|adId_01|        960.0|\n",
            "|c67d4a61-a911-498...|campaignId_02|adId_06|       1140.0|\n",
            "+--------------------+-------------+-------+-------------+\n",
            "only showing top 5 rows\n",
            "\n"
          ]
        }
      ]
    },
    {
      "cell_type": "markdown",
      "source": [
        "## Resposta :\n",
        "\n",
        "                  user_id|   campaignId|   adId| avg(lead_sec)|\n",
        "\n",
        "*   |848eb13c-6881-45a...|campaignId_02|adId_05|        480.0|\n",
        "*   |f4db1c5e-7780-4be...|campaignId_02|adId_05|        660.0|\n",
        "*   |e929e33e-791a-4b7...|campaignId_03|adId_10|        900.0|\n",
        "*   |28c5def5-3ede-4ea...|campaignId_01|adId_01|        960.0|\n",
        "*   |c67d4a61-a911-498...|campaignId_02|adId_06|       1140.0|"
      ],
      "metadata": {
        "id": "VTDbbXJ3msGe"
      }
    }
  ]
}