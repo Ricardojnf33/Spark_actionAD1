{
  "cells": [
    {
      "cell_type": "markdown",
      "metadata": {
        "id": "view-in-github",
        "colab_type": "text"
      },
      "source": [
        "<a href=\"https://colab.research.google.com/github/Ricardojnf33/Spark_actionAD1/blob/main/Exercicio_Spark_AWS_Ricardo_Fernandes.ipynb\" target=\"_parent\"><img src=\"https://colab.research.google.com/assets/colab-badge.svg\" alt=\"Open In Colab\"/></a>"
      ]
    },
    {
      "cell_type": "markdown",
      "metadata": {
        "id": "-8qoobgrQlNK"
      },
      "source": [
        "# Instalando as dependências"
      ]
    },
    {
      "cell_type": "code",
      "execution_count": null,
      "metadata": {
        "colab": {
          "base_uri": "https://localhost:8080/"
        },
        "id": "_MHXxa4r1Gpq",
        "outputId": "5fcecb3d-4654-41fe-a7aa-4716e1a8b40f"
      },
      "outputs": [
        {
          "output_type": "stream",
          "name": "stdout",
          "text": [
            "\r0% [Working]\r            \rGet:1 http://ppa.launchpad.net/c2d4u.team/c2d4u4.0+/ubuntu bionic InRelease [15.9 kB]\n",
            "\r0% [Connecting to archive.ubuntu.com (91.189.91.39)] [Connecting to security.ub\r0% [Connecting to archive.ubuntu.com (91.189.91.39)] [Connecting to security.ub\r                                                                               \rGet:2 https://cloud.r-project.org/bin/linux/ubuntu bionic-cran40/ InRelease [3,626 B]\n",
            "\r0% [Connecting to archive.ubuntu.com (91.189.91.39)] [Connecting to security.ub\r0% [1 InRelease gpgv 15.9 kB] [Connecting to archive.ubuntu.com (91.189.91.39)]\r                                                                               \rHit:3 http://ppa.launchpad.net/cran/libgit2/ubuntu bionic InRelease\n",
            "\r0% [1 InRelease gpgv 15.9 kB] [Connecting to archive.ubuntu.com (91.189.91.39)]\r                                                                               \rGet:4 http://ppa.launchpad.net/deadsnakes/ppa/ubuntu bionic InRelease [15.9 kB]\n",
            "\r0% [1 InRelease gpgv 15.9 kB] [Waiting for headers] [Waiting for headers] [Wait\r0% [1 InRelease gpgv 15.9 kB] [Waiting for headers] [Waiting for headers] [Wait\r                                                                               \rHit:5 http://ppa.launchpad.net/graphics-drivers/ppa/ubuntu bionic InRelease\n",
            "\r0% [1 InRelease gpgv 15.9 kB] [Waiting for headers] [Waiting for headers] [Wait\r                                                                               \rGet:6 http://security.ubuntu.com/ubuntu bionic-security InRelease [88.7 kB]\n",
            "Hit:7 http://archive.ubuntu.com/ubuntu bionic InRelease\n",
            "Get:8 http://archive.ubuntu.com/ubuntu bionic-updates InRelease [88.7 kB]\n",
            "Ign:9 https://developer.download.nvidia.com/compute/machine-learning/repos/ubuntu1804/x86_64  InRelease\n",
            "Get:10 https://developer.download.nvidia.com/compute/cuda/repos/ubuntu1804/x86_64  InRelease [1,581 B]\n",
            "Hit:11 https://developer.download.nvidia.com/compute/machine-learning/repos/ubuntu1804/x86_64  Release\n",
            "Get:12 http://ppa.launchpad.net/c2d4u.team/c2d4u4.0+/ubuntu bionic/main Sources [2,077 kB]\n",
            "Get:13 http://ppa.launchpad.net/c2d4u.team/c2d4u4.0+/ubuntu bionic/main amd64 Packages [1,064 kB]\n",
            "Get:14 http://archive.ubuntu.com/ubuntu bionic-backports InRelease [74.6 kB]\n",
            "Get:15 https://cloud.r-project.org/bin/linux/ubuntu bionic-cran40/ Packages [89.9 kB]\n",
            "Get:16 http://ppa.launchpad.net/deadsnakes/ppa/ubuntu bionic/main amd64 Packages [45.3 kB]\n",
            "Get:17 https://developer.download.nvidia.com/compute/cuda/repos/ubuntu1804/x86_64  Packages [903 kB]\n",
            "Get:19 http://security.ubuntu.com/ubuntu bionic-security/restricted amd64 Packages [1,100 kB]\n",
            "Get:20 http://archive.ubuntu.com/ubuntu bionic-updates/universe amd64 Packages [2,310 kB]\n",
            "Get:21 http://security.ubuntu.com/ubuntu bionic-security/main amd64 Packages [2,937 kB]\n",
            "Get:22 http://security.ubuntu.com/ubuntu bionic-security/universe amd64 Packages [1,533 kB]\n",
            "Get:23 http://archive.ubuntu.com/ubuntu bionic-updates/restricted amd64 Packages [1,141 kB]\n",
            "Get:24 http://archive.ubuntu.com/ubuntu bionic-updates/main amd64 Packages [3,369 kB]\n",
            "Fetched 16.9 MB in 4s (4,248 kB/s)\n",
            "Reading package lists... Done\n"
          ]
        }
      ],
      "source": [
        "!apt-get update"
      ]
    },
    {
      "cell_type": "code",
      "execution_count": null,
      "metadata": {
        "id": "RWDuifjG-UmV"
      },
      "outputs": [],
      "source": [
        "# instalar as dependências\n",
        "!apt-get install openjdk-8-jdk-headless -qq > /dev/null\n",
        "!wget -q https://archive.apache.org/dist/spark/spark-2.4.4/spark-2.4.4-bin-hadoop2.7.tgz\n",
        "!tar xf spark-2.4.4-bin-hadoop2.7.tgz\n",
        "!pip install -q findspark\n"
      ]
    },
    {
      "cell_type": "markdown",
      "metadata": {
        "id": "V4U9D3VzQyI0"
      },
      "source": [
        "# Criando variáveis de ambiente"
      ]
    },
    {
      "cell_type": "code",
      "execution_count": null,
      "metadata": {
        "id": "EjdTalB8-UgG"
      },
      "outputs": [],
      "source": [
        "# configurar as variáveis de ambiente\n",
        "import os\n",
        "os.environ[\"JAVA_HOME\"] = \"/usr/lib/jvm/java-8-openjdk-amd64\"\n",
        "os.environ[\"SPARK_HOME\"] = \"/content/spark-2.4.4-bin-hadoop2.7\"\n",
        "\n",
        "# tornar o pyspark \"importável\"\n",
        "import findspark\n",
        "findspark.init('spark-2.4.4-bin-hadoop2.7')"
      ]
    },
    {
      "cell_type": "markdown",
      "metadata": {
        "id": "c8kmVSvYQv4K"
      },
      "source": [
        "# Importando Bibliotecas"
      ]
    },
    {
      "cell_type": "code",
      "execution_count": null,
      "metadata": {
        "id": "CdQE3KRHSYNw"
      },
      "outputs": [],
      "source": [
        "from pyspark.sql import SparkSession\n",
        "from pyspark import SparkContext\n",
        "from pyspark.sql.functions import col, asc, desc, dayofweek\n",
        "from pyspark.sql.functions import when"
      ]
    },
    {
      "cell_type": "markdown",
      "metadata": {
        "id": "Tp5sCvYVRBA4"
      },
      "source": [
        "## Iniciando a sessão"
      ]
    },
    {
      "cell_type": "code",
      "execution_count": null,
      "metadata": {
        "id": "4pMeUns8-UdP"
      },
      "outputs": [],
      "source": [
        "spark = SparkSession.builder.getOrCreate()"
      ]
    },
    {
      "cell_type": "markdown",
      "metadata": {
        "id": "Tl5_TmniRIYy"
      },
      "source": []
    },
    {
      "cell_type": "code",
      "execution_count": null,
      "metadata": {
        "id": "8LAQLakq-UaA"
      },
      "outputs": [],
      "source": [
        "from pyspark.sql.types import StructType, IntegerType, TimestampType, StringType, StructField\n",
        "\n",
        "schema = StructType([\n",
        "    StructField(\"marketplace\",StringType()),\n",
        "    StructField(\"customer_id\",StringType()),\n",
        "    StructField(\"review_id\",StringType()),\n",
        "    StructField(\"product_id\",StringType()),\n",
        "    StructField(\"product_parent\",StringType()),\n",
        "    StructField(\"product_title\",StringType()),\n",
        "    StructField(\"product_category\",StringType()),\n",
        "    StructField(\"star_rating\",StringType()),\n",
        "    StructField(\"helpful_votes\",StringType()),\n",
        "    StructField(\"total_votes\",StringType()),\n",
        "    StructField(\"vine\",StringType()),\n",
        "    StructField(\"verified_purchase\",StringType()),\n",
        "    StructField(\"review_headline \",StringType()),\n",
        "    StructField(\"review_body\",StringType()),\n",
        "    StructField(\"review_date\",StringType())\n",
        "])"
      ]
    },
    {
      "cell_type": "markdown",
      "metadata": {
        "id": "GZolTOyRAc8k"
      },
      "source": [
        "Upload do AWS"
      ]
    },
    {
      "cell_type": "code",
      "execution_count": null,
      "metadata": {
        "id": "I_oHmWimAgF8"
      },
      "outputs": [],
      "source": [
        "!wget -i https://s3.amazonaws.com/amazon-reviews-pds/tsv/index.txt\n",
        "!gunzip /content/amazon_reviews_us_*.tsv.gz"
      ]
    },
    {
      "cell_type": "code",
      "execution_count": null,
      "metadata": {
        "id": "z4V_fYpkQanj"
      },
      "outputs": [],
      "source": [
        "#merge_tsv_files\n",
        "from glob import glob\n",
        "\n",
        "filename = 'merge.tsv'\n",
        "\n",
        "with open(filename, 'a') as singleFile:\n",
        "    first_tsv = True\n",
        "    for tsv in glob('/content/amazon_reviews_us_*.tsv'):\n",
        "        if tsv == filename:\n",
        "            pass\n",
        "        else:\n",
        "            header = True\n",
        "            for line in open(tsv, 'r'):\n",
        "                if first_tsv and header:\n",
        "                    singleFile.write(line)\n",
        "                    first_tsv = False\n",
        "                    header = False\n",
        "                elif header:\n",
        "                    header = False\n",
        "                else:\n",
        "                    singleFile.write(line)\n",
        "    singleFile.close()"
      ]
    },
    {
      "cell_type": "markdown",
      "metadata": {
        "id": "1bSv0gG4FM0Q"
      },
      "source": [
        "## Esvaziando o hard drive."
      ]
    },
    {
      "cell_type": "code",
      "execution_count": null,
      "metadata": {
        "id": "cmAf440TFLzG"
      },
      "outputs": [],
      "source": [
        "!rm /content/amazon_reviews_*.tsv\n",
        "!rm /content/amazon_reviews_*.tsv.gz"
      ]
    },
    {
      "cell_type": "code",
      "execution_count": null,
      "metadata": {
        "colab": {
          "base_uri": "https://localhost:8080/"
        },
        "id": "SEBkJg0D-UWf",
        "outputId": "3254bd4e-4b66-43fc-8141-9f694a1767c3"
      },
      "outputs": [
        {
          "name": "stdout",
          "output_type": "stream",
          "text": [
            "+-----------+-----------+--------------+----------+--------------+--------------------+----------------+-----------+-------------+-----------+----+-----------------+--------------------+--------------------+-----------+\n",
            "|marketplace|customer_id|     review_id|product_id|product_parent|       product_title|product_category|star_rating|helpful_votes|total_votes|vine|verified_purchase|    review_headline |         review_body|review_date|\n",
            "+-----------+-----------+--------------+----------+--------------+--------------------+----------------+-----------+-------------+-----------+----+-----------------+--------------------+--------------------+-----------+\n",
            "|marketplace|customer_id|     review_id|product_id|product_parent|       product_title|product_category|star_rating|helpful_votes|total_votes|vine|verified_purchase|     review_headline|         review_body|review_date|\n",
            "|         US|   24371595|R27ZP1F1CD0C3Y|B004LLIL5A|     346014806|Amazon eGift Card...|       Gift Card|          5|            0|          0|   N|                Y|          Five Stars|Great birthday gi...| 2015-08-31|\n",
            "|         US|   42489718| RJ7RSBCHUDNNE|B004LLIKVU|     473048287|Amazon.com eGift ...|       Gift Card|          5|            0|          0|   N|                Y|Gift card for the...|It's an Amazon gi...| 2015-08-31|\n",
            "|         US|     861463|R1HVYBSKLQJI5S|B00IX1I3G6|     926539283|Amazon.com Gift C...|       Gift Card|          5|            0|          0|   N|                Y|          Five Stars|                Good| 2015-08-31|\n",
            "|         US|   25283295|R2HAXF0IIYQBIR|B00IX1I3G6|     926539283|Amazon.com Gift C...|       Gift Card|          1|            0|          0|   N|                Y|            One Star|                Fair| 2015-08-31|\n",
            "|         US|     397970| RNYLPX611NB7Q|B005ESMGV4|     379368939|Amazon.com Gift C...|       Gift Card|          5|            0|          0|   N|                Y|          Five Stars|I can't believe h...| 2015-08-31|\n",
            "|         US|   18513645|R3ALA9XXMBEDZR|B004KNWWU4|     326384774|Amazon Gift Card ...|       Gift Card|          5|            0|          0|   N|                Y|Perfect for most ...|Perfect!  Nice & ...| 2015-08-31|\n",
            "|         US|   22484620|R3R8PHAVJFTPDF|B004LLIKVU|     473048287|Amazon.com eGift ...|       Gift Card|          5|            0|          0|   N|                Y|          Five Stars|            excelent| 2015-08-31|\n",
            "|         US|   14765851|R18WWEK8OIXE30|BT00CTP2EE|     775486538|Amazon.com Gift C...|       Gift Card|          5|            0|          0|   N|                Y|          Five Stars|Great and Safe Gi...| 2015-08-31|\n",
            "|         US|   18751931|R1EGUNQON2J277|B004LLIKVU|     473048287|Amazon.com eGift ...|       Gift Card|          1|            0|          0|   N|                Y|            One Star|       What?????????| 2015-08-31|\n",
            "+-----------+-----------+--------------+----------+--------------+--------------------+----------------+-----------+-------------+-----------+----+-----------------+--------------------+--------------------+-----------+\n",
            "only showing top 10 rows\n",
            "\n"
          ]
        }
      ],
      "source": [
        "df_ad = spark.read.csv('/content/merge.tsv', header=False, schema=schema, sep= \"\\t\")\n",
        "df_ad.show(10)"
      ]
    },
    {
      "cell_type": "markdown",
      "metadata": {
        "id": "JTmJX5ykTQ3l"
      },
      "source": [
        "## 1) Quais são as top 3 campanhas que geraram mais eventos? Ordene pela quantidade de eventos (2,5 pontos)"
      ]
    },
    {
      "cell_type": "code",
      "execution_count": null,
      "metadata": {
        "colab": {
          "background_save": true
        },
        "id": "KQM_hFGRV17j",
        "outputId": "f51dfec5-5945-45d7-9aaa-cdf0bd37b7a7"
      },
      "outputs": [
        {
          "name": "stdout",
          "output_type": "stream",
          "text": [
            "+--------------------+--------+\n",
            "|    product_category|   count|\n",
            "+--------------------+--------+\n",
            "|               Books|19531194|\n",
            "|Digital_Ebook_Pur...|17622381|\n",
            "|            Wireless| 9001881|\n",
            "|                  PC| 6908551|\n",
            "|                Home| 6221537|\n",
            "|             Apparel| 5906322|\n",
            "|Health & Personal...| 5331215|\n",
            "|              Beauty| 5115452|\n",
            "|           Video DVD| 5069136|\n",
            "|         Mobile_Apps| 5033376|\n",
            "+--------------------+--------+\n",
            "only showing top 10 rows\n",
            "\n"
          ]
        }
      ],
      "source": [
        "df_ad.groupby('product_category').count().orderBy(col('count').desc()).show(10)"
      ]
    },
    {
      "cell_type": "markdown",
      "metadata": {
        "id": "-gXi-yV-Tp4o"
      },
      "source": [
        "## 2) Qual campanha teve mais clicks? (2,5 pontos)"
      ]
    },
    {
      "cell_type": "code",
      "execution_count": null,
      "metadata": {
        "colab": {
          "base_uri": "https://localhost:8080/"
        },
        "id": "z5PnOA58XCYn",
        "outputId": "7bf3e6dc-f92c-49c0-923c-cf3fb7c64e67"
      },
      "outputs": [
        {
          "name": "stdout",
          "output_type": "stream",
          "text": [
            "+---------+-----+\n",
            "|review_id|count|\n",
            "+---------+-----+\n",
            "|review_id|    1|\n",
            "+---------+-----+\n",
            "\n"
          ]
        }
      ],
      "source": [
        "df_ad.where(df_ad.helpful_votes=='helpful_votes').groupby('review_id').count().orderBy(col('count').desc()).show(1)"
      ]
    },
    {
      "cell_type": "markdown",
      "metadata": {
        "id": "GkFaxjG_T410"
      },
      "source": [
        "## 3) Dos 12 meses do ano, qual teve o maior total de eventos acumulado ao longo dos anos? (2,5 pontos)"
      ]
    },
    {
      "cell_type": "code",
      "execution_count": null,
      "metadata": {
        "id": "dYWQmsuTZR6d"
      },
      "outputs": [],
      "source": [
        "df_ad.where(df_ad.action=='click').groupby('campaignId').count().orderBy(col('count').desc()).show(1)"
      ]
    },
    {
      "cell_type": "code",
      "execution_count": null,
      "metadata": {
        "id": "WLhYpGVdaNhM"
      },
      "outputs": [],
      "source": [
        "df_ad.where(df_ad.action=='click').assign(month=lambda x: x['timestamp'].dt.month).groupby('month').count().orderBy(col('count').desc()).show(12)"
      ]
    },
    {
      "cell_type": "code",
      "execution_count": null,
      "metadata": {
        "id": "8NvtJmz3-T4S"
      },
      "outputs": [],
      "source": [
        "df_ad[['timestamp', 'action']]\\\n",
        "    .assign(month=lambda x: x['timestamp'].dt.month)\\\n",
        "    .groupby('month')\\\n",
        "    ['timestamp']\\\n",
        "    .count()\\\n",
        "    .nlargest(1)\\\n",
        "    .compute()"
      ]
    },
    {
      "cell_type": "markdown",
      "metadata": {
        "id": "A7ZMNfuHUH2y"
      },
      "source": [
        "## 4) Nas situações onde existe um evento de view seguido de um evento de click criados pelo mesmo usuário no mesmo anúncio e campanha, quais são os 5 pares de anúncio e campanha com menores médias de tempo entre os dois eventos (2,5 pontos)"
      ]
    },
    {
      "cell_type": "code",
      "execution_count": null,
      "metadata": {
        "id": "2zYY5uxl-Ty-"
      },
      "outputs": [],
      "source": [
        "df_ad.select('user_id','action',).groupBy('user_id').pivot('action').count().na.fill(0).filter(col('click')>col('view')).show()"
      ]
    },
    {
      "cell_type": "code",
      "execution_count": null,
      "metadata": {
        "id": "3xG3FwjP-TwH"
      },
      "outputs": [],
      "source": [
        "df_ad.select('user_id','action',).groupBy('user_id').pivot('action').count().na.fill(0).filter(col('click')>col('view')).count()"
      ]
    },
    {
      "cell_type": "code",
      "execution_count": null,
      "metadata": {
        "id": "Ko2KJnXJGpDH"
      },
      "outputs": [],
      "source": []
    }
  ],
  "metadata": {
    "colab": {
      "machine_shape": "hm",
      "provenance": [],
      "include_colab_link": true
    },
    "gpuClass": "standard",
    "kernelspec": {
      "display_name": "Python 3",
      "name": "python3"
    },
    "language_info": {
      "name": "python"
    }
  },
  "nbformat": 4,
  "nbformat_minor": 0
}